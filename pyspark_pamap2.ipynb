{
 "cells": [
  {
   "cell_type": "markdown",
   "metadata": {},
   "source": [
    "## Using Apache Spark for Data Processing and Machine Learning  to detect nature of physical activity using sensor data."
   ]
  },
  {
   "cell_type": "markdown",
   "metadata": {},
   "source": [
    "The PAMAP2 Physical Activity Monitoring dataset contains data of 18 different physical activities, performed by 9 subjects wearing 3 inertial measurement units and a heart rate monitor.\n",
    "\n",
    "We will load the data into Hadoop ditributed file system and utilize pyspark to process the data and use mlib library in pyspark for machine learning algorithms to detect the physical activity based on readings.\n",
    "\n"
   ]
  },
  {
   "cell_type": "markdown",
   "metadata": {},
   "source": [
    "#### Raw data format"
   ]
  },
  {
   "cell_type": "raw",
   "metadata": {},
   "source": [
    "\n",
    "Synchronized and labeled raw data from all the sensors (3 IMUs and the HR-monitor) is merged    \n",
    "into 1 data file per subject per session (protocol or optional), available as text-files (.dat).    \n",
    "Each of the data-files contains 54 columns per row, the columns contain the following data:    \n",
    "– 1 timestamp (s)    \n",
    "– 2 activityID (see II.2. for the mapping to the activities)    \n",
    "– 3 heart rate (bpm)    \n",
    "– 4-20 IMU hand    \n",
    "– 21-37 IMU chest    \n",
    "– 38-54 IMU ankle    \n",
    "\n",
    "The IMU sensory data contains the following columns:     \n",
    "– 1 temperature (°C)    \n",
    "– 2-4 3D-acceleration data (ms-2), scale: ±16g, resolution: 13-bit    \n",
    "– 5-7 3D-acceleration data (ms-2), scale: ±6g, resolution: 13-bit*    \n",
    "– 8-10 3D-gyroscope data (rad/s)    \n",
    "– 11-13 3D-magnetometer data (μT)    \n",
    "– 14-17 orientation (invalid in this data collection)    \n",
    "\n",
    "2. Activity IDs:\n",
    "– 1 lying\n",
    "– 2 sitting\n",
    "– 3 standing\n",
    "– 4 walking\n",
    "– 5 running\n",
    "– 6 cycling\n",
    "– 7 Nordic walking\n",
    "– 9 watching TV\n",
    "– 10 computer work\n",
    "– 11 car driving\n",
    "– 12 ascending stairs\n",
    "– 13 descending stairs\n",
    "– 16 vacuum cleaning\n",
    "– 17 ironing\n",
    "– 18 folding laundry\n",
    "– 19 house cleaning\n",
    "– 20 playing soccer\n",
    "– 24 rope jumping\n",
    "– 0 other (transient activities)\n",
    "Note: data labeled with activityID=0 should be discarded in any kind of analysis. This data mainly\n",
    "covers transient activities between performing different activities, e.g. going from one location to the\n",
    "next activity's location, or waiting for the preparation of some equipment. Also, different parts of one\n",
    "subject's recording (in the case when the data collection was aborted for some reason) was put together\n",
    "during these transient activities (noticeable by some “jumping” in the HR-data)."
   ]
  },
  {
   "cell_type": "markdown",
   "metadata": {},
   "source": [
    "## Move Rawdata to HDFS and Convert into ORC format"
   ]
  },
  {
   "cell_type": "markdown",
   "metadata": {},
   "source": [
    "Follow the below steps to download and move raw data from local file system to hdfs and convert into orc format for distributed processing\n"
   ]
  },
  {
   "cell_type": "markdown",
   "metadata": {},
   "source": [
    "###### Download the dataset"
   ]
  },
  {
   "cell_type": "raw",
   "metadata": {},
   "source": [
    "[hadoop@test-ser-vm01 pamap2]$ wget http://archive.ics.uci.edu/ml/machine-learning-databases/00231/PAMAP2_Dataset.zip   \n",
    "[hadoop@test-ser-vm01 pamap2]$ unzip PAMAP2_Dataset.zip\n",
    "[hadoop@test-ser-vm01 pamap2]$ cd PAMAP2_Dataset\n",
    "[hadoop@test-ser-vm01 pamap2]$ cd PAMAP2_Dataset/Protocol\n",
    "[hadoop@test-ser-vm01 Protocol]$ ls -lrt\n",
    "total 1271440\n",
    "-rw-------. 1 hadoop hadoop 141698539 Jan 10  2012 subject101.dat\n",
    "-rw-------. 1 hadoop hadoop 207349310 Jan 10  2012 subject102.dat\n",
    "-rw-------. 1 hadoop hadoop 117863364 Jan 10  2012 subject103.dat\n",
    "-rw-------. 1 hadoop hadoop 153227482 Jan 10  2012 subject104.dat\n",
    "-rw-------. 1 hadoop hadoop 173773599 Jan 10  2012 subject105.dat\n",
    "-rw-------. 1 hadoop hadoop 168263273 Jan 10  2012 subject106.dat\n",
    "-rw-------. 1 hadoop hadoop 145823268 Jan 10  2012 subject107.dat\n",
    "-rw-------. 1 hadoop hadoop 190019653 Jan 10  2012 subject108.dat\n",
    "-rw-------. 1 hadoop hadoop   3891140 Jan 10  2012 subject109.dat\n",
    "\n"
   ]
  },
  {
   "cell_type": "markdown",
   "metadata": {},
   "source": [
    "###### Create directory in HDFS and copy files from local to HDFS"
   ]
  },
  {
   "cell_type": "raw",
   "metadata": {},
   "source": [
    "[hadoop@test-ser-vm01 Protocol]$ hadoop fs -mkdir /mnt/data/scripts/notebooks/ashwin/data\n",
    "[hadoop@test-ser-vm01 Protocol]$ hadoop dfs -put subject* /mnt/data/scripts/notebooks/ashwin/data\n",
    "[hadoop@test-ser-vm01 Protocol]$ hadoop fs -ls /mnt/data/scripts/notebooks/ashwin/data\n",
    "Found 9 items\n",
    "-rw-r--r--   3 hadoop supergroup  141698539 2018-03-14 08:41 /mnt/data/scripts/notebooks/ashwin/data/subject101.dat\n",
    "-rw-r--r--   3 hadoop supergroup  207349310 2018-03-14 08:41 /mnt/data/scripts/notebooks/ashwin/data/subject102.dat\n",
    "-rw-r--r--   3 hadoop supergroup  117863364 2018-03-14 08:41 /mnt/data/scripts/notebooks/ashwin/data/subject103.dat\n",
    "-rw-r--r--   3 hadoop supergroup  153227482 2018-03-14 08:41 /mnt/data/scripts/notebooks/ashwin/data/subject104.dat\n",
    "-rw-r--r--   3 hadoop supergroup  173773599 2018-03-14 08:41 /mnt/data/scripts/notebooks/ashwin/data/subject105.dat\n",
    "-rw-r--r--   3 hadoop supergroup  168263273 2018-03-14 08:41 /mnt/data/scripts/notebooks/ashwin/data/subject106.dat\n",
    "-rw-r--r--   3 hadoop supergroup  145823268 2018-03-14 08:41 /mnt/data/scripts/notebooks/ashwin/data/subject107.dat\n",
    "-rw-r--r--   3 hadoop supergroup  190019653 2018-03-14 08:41 /mnt/data/scripts/notebooks/ashwin/data/subject108.dat\n",
    "-rw-r--r--   3 hadoop supergroup    3891140 2018-03-14 08:41 /mnt/data/scripts/notebooks/ashwin/data/subject109.dat\n"
   ]
  },
  {
   "cell_type": "markdown",
   "metadata": {},
   "source": [
    "###### Create HIVE external Table with schema and Load data\n"
   ]
  },
  {
   "cell_type": "raw",
   "metadata": {},
   "source": [
    "hive> CREATE SCHEMA IF NOT EXISTS test1;\n",
    "OK.\n",
    "\n",
    "hive>CREATE EXTERNAL TABLE IF NOT EXISTS test1.pamap2_table\n",
    "(time DOUBLE, activity DOUBLE, heart_rate DOUBLE,hand_temp DOUBLE,hand_acc16g_1 DOUBLE, hand_acc16g_2 DOUBLE, hand_acc16g_3 DOUBLE, hand_acc6g_1 DOUBLE, hand_acc6g_2 DOUBLE, hand_acc6g_3 DOUBLE, hand_gyro_1 DOUBLE,hand_gyro_2 DOUBLE,hand_gyro_3 DOUBLE, hand_mag_1 DOUBLE, hand_mag_2 DOUBLE, hand_mag_3 DOUBLE, hand_orient_1 DOUBLE, hand_orient_2 DOUBLE, hand_orient_3 DOUBLE, hand_orient_4 DOUBLE,\n",
    "chest_temp DOUBLE,chest_acc16g_1 DOUBLE, chest_acc16g_2 DOUBLE, chest_acc16g_3 DOUBLE, chest_acc6g_1 DOUBLE, chest_acc6g_2 DOUBLE, chest_acc6g_3 DOUBLE, chest_gyro_1 DOUBLE,chest_gyro_2 DOUBLE,chest_gyro_3 DOUBLE, chest_mag_1 DOUBLE, chest_mag_2 DOUBLE, chest_mag_3 DOUBLE, chest_orient_1 DOUBLE, chest_orient_2 DOUBLE, chest_orient_3 DOUBLE, chest_orient_4 DOUBLE,\n",
    "ankle_temp DOUBLE,ankle_acc16g_1 DOUBLE, ankle_acc16g_2 DOUBLE, ankle_acc16g_3 DOUBLE, ankle_acc6g_1 DOUBLE, ankle_acc6g_2 DOUBLE, ankle_acc6g_3 DOUBLE, ankle_gyro_1 DOUBLE,ankle_gyro_2 DOUBLE,ankle_gyro_3 DOUBLE, ankle_mag_1 DOUBLE, ankle_mag_2 DOUBLE, ankle_mag_3 DOUBLE, ankle_orient_1 DOUBLE, ankle_orient_2 DOUBLE, ankle_orient_3 DOUBLE, ankle_orient_4 DOUBLE )\n",
    "ROW FORMAT DELIMITED\n",
    "FIELDS TERMINATED BY ' '\n",
    "STORED AS TEXTFILE\n",
    "LOCATION '/mnt/data/scripts/notebooks/ashwin/data/';\n",
    "OK.\n"
   ]
  },
  {
   "cell_type": "markdown",
   "metadata": {},
   "source": [
    "The import can be verified by listing the first few rows in the table:"
   ]
  },
  {
   "cell_type": "raw",
   "metadata": {},
   "source": [
    "hive> select * from test1.pamap2_table limit 2;\n",
    "OK\n",
    "8.38    0.0     104.0   30.0    2.37223 8.60074 3.51048 2.43954 8.76165 3.35465 -0.0922174      0.0568115       -0.0158445      14.6806 -69.2128        -5.58905       1.0      0.0     0.0     0.0     31.8125 0.23808 9.80003 -1.68896        0.265304        9.81549 -1.41344        -0.00506495     -0.00678097     -0.00566295     0.47196-51.0499 43.2903 1.0     0.0     0.0     0.0     30.3125 9.65918 -1.65569        -0.0997967      9.64689 -1.55576        0.310404        0.00830026      0.00925038     -0.0175803       -61.1888        -38.9599        -58.1438        1.0     0.0     0.0     0.0\n",
    "8.39    0.0     NaN     30.0    2.18837 8.5656  3.66179 2.39494 8.55081 3.64207 -0.0244132      0.0477585       0.00647434      14.8991 -69.2224        -5.82311       1.0      0.0     0.0     0.0     31.8125 0.31953 9.61282 -1.49328        0.234939        9.78539 -1.42846        0.013685        0.00148646      -0.0415218      1.0169 -50.3966 43.1768 1.0     0.0     0.0     0.0     30.3125 9.6937  -1.57902        -0.215687       9.6167  -1.6163 0.280488        -0.00657665     -0.00463778     3.6825E-4       -59.8479        -38.8919        -58.5253        1.0     0.0     0.0     0.0\n",
    "Time taken: 0.191 seconds, Fetched: 2 row(s)"
   ]
  },
  {
   "cell_type": "markdown",
   "metadata": {},
   "source": [
    "###### Create a HIVE managed ORC table to convert into orc format"
   ]
  },
  {
   "cell_type": "raw",
   "metadata": {},
   "source": [
    "hive> CREATE TABLE test1.pamap2_orc \n",
    "(time DOUBLE, activity DOUBLE, heart_rate DOUBLE,hand_temp DOUBLE,hand_acc16g_1 DOUBLE, hand_acc16g_2 DOUBLE, hand_acc16g_3 DOUBLE, hand_acc6g_1 DOUBLE, hand_acc6g_2 DOUBLE, hand_acc6g_3 DOUBLE, hand_gyro_1 DOUBLE,hand_gyro_2 DOUBLE,hand_gyro_3 DOUBLE, hand_mag_1 DOUBLE, hand_mag_2 DOUBLE, hand_mag_3 DOUBLE, hand_orient_1 DOUBLE, hand_orient_2 DOUBLE, hand_orient_3 DOUBLE, hand_orient_4 DOUBLE,\n",
    "chest_temp DOUBLE,chest_acc16g_1 DOUBLE, chest_acc16g_2 DOUBLE, chest_acc16g_3 DOUBLE, chest_acc6g_1 DOUBLE, chest_acc6g_2 DOUBLE, chest_acc6g_3 DOUBLE, chest_gyro_1 DOUBLE,chest_gyro_2 DOUBLE,chest_gyro_3 DOUBLE, chest_mag_1 DOUBLE, chest_mag_2 DOUBLE, chest_mag_3 DOUBLE, chest_orient_1 DOUBLE, chest_orient_2 DOUBLE, chest_orient_3 DOUBLE, chest_orient_4 DOUBLE,\n",
    "ankle_temp DOUBLE,ankle_acc16g_1 DOUBLE, ankle_acc16g_2 DOUBLE, ankle_acc16g_3 DOUBLE, ankle_acc6g_1 DOUBLE, ankle_acc6g_2 DOUBLE, ankle_acc6g_3 DOUBLE, ankle_gyro_1 DOUBLE,ankle_gyro_2 DOUBLE,ankle_gyro_3 DOUBLE, ankle_mag_1 DOUBLE, ankle_mag_2 DOUBLE, ankle_mag_3 DOUBLE, ankle_orient_1 DOUBLE, ankle_orient_2 DOUBLE, ankle_orient_3 DOUBLE, ankle_orient_4 DOUBLE )\n",
    "STORED AS ORC;\n",
    "OK"
   ]
  },
  {
   "cell_type": "raw",
   "metadata": {},
   "source": [
    "As we have already loaded temporary table pampa2_table, it’s time to load the data from it to actual ORC table pampa2_orc."
   ]
  },
  {
   "cell_type": "markdown",
   "metadata": {},
   "source": [
    "###### Insert the data from the external table into the Hive-managed table."
   ]
  },
  {
   "cell_type": "raw",
   "metadata": {},
   "source": [
    "hive> INSERT INTO TABLE test1.pamap2_orc SELECT * FROM test1.pamap2_table;\n",
    "\n",
    "Query ID = hadoop_20180314092522_71507bf7-1c30-4376-87cd-b38129a7f6a9\n",
    "Total jobs = 1\n",
    "Launching Job 1 out of 1\n",
    "Number of reduce tasks is set to 0 since there's no reduce operator\n",
    "Starting Job = job_1552283641705_0251, Tracking URL = http://test-ser-vm01:8088/proxy/application_1552283641705_0251/\n",
    "Kill Command = /mnt/data/hadoop/hadoop/bin/hadoop job  -kill job_1552283641705_0251\n",
    "Hadoop job information for Stage-1: number of mappers: 9; number of reducers: 0\n",
    "2018-03-14 09:25:56,207 Stage-1 map = 0%,  reduce = 0%\n",
    "2018-03-14 09:26:05,033 Stage-1 map = 11%,  reduce = 0%, Cumulative CPU 6.13 sec\n",
    "2018-03-14 09:26:13,402 Stage-1 map = 22%,  reduce = 0%, Cumulative CPU 11.18 sec\n",
    "2018-03-14 09:26:14,445 Stage-1 map = 33%,  reduce = 0%, Cumulative CPU 19.27 sec\n",
    "2018-03-14 09:26:22,804 Stage-1 map = 66%,  reduce = 0%, Cumulative CPU 84.16 sec\n",
    "2018-03-14 09:26:23,846 Stage-1 map = 80%,  reduce = 0%, Cumulative CPU 100.77 sec\n",
    "2018-03-14 09:26:24,889 Stage-1 map = 88%,  reduce = 0%, Cumulative CPU 119.36 sec\n",
    "2018-03-14 09:26:30,099 Stage-1 map = 90%,  reduce = 0%, Cumulative CPU 132.35 sec\n",
    "2018-03-14 09:26:32,183 Stage-1 map = 96%,  reduce = 0%, Cumulative CPU 135.55 sec\n",
    "2018-03-14 09:26:38,455 Stage-1 map = 100%,  reduce = 0%, Cumulative CPU 143.93 sec\n",
    "MapReduce Total cumulative CPU time: 2 minutes 23 seconds 930 msec\n",
    "Ended Job = job_1552283641705_0251\n",
    "Stage-4 is selected by condition resolver.\n",
    "Stage-3 is filtered out by condition resolver.\n",
    "Stage-5 is filtered out by condition resolver.\n",
    "Moving data to directory hdfs://test-ser-vm01:9000/user/hive/warehouse/test1.db/pamap2_orc/.hive-staging_hive_2018-03-14_09-25-22_801_2601980388252549428-1/-ext-10000\n",
    "Loading data to table test1.pamap2_orc\n",
    "MapReduce Jobs Launched:\n",
    "Stage-Stage-1: Map: 9   Cumulative CPU: 143.93 sec   HDFS Read: 1302077635 HDFS Write: 772976727 SUCCESS\n",
    "Total MapReduce CPU Time Spent: 2 minutes 23 seconds 930 msec\n",
    "OK\n",
    "Time taken: 78.615 seconds\n"
   ]
  },
  {
   "cell_type": "markdown",
   "metadata": {},
   "source": [
    "Verify the data import into ORC-formatted table: \n"
   ]
  },
  {
   "cell_type": "raw",
   "metadata": {},
   "source": [
    "hive> select * from test1.pamap2_orc limit 2;\n",
    "OK\n",
    "5.64    0.0     NaN     33.0    2.79143 7.55389 -7.06374        2.87553 7.88823 -6.76139        1.0164  -0.28941        1.38207 -11.6508        -3.73683        31.17841.0      0.0     0.0     0.0     36.125  1.94739 9.59644 -3.12873        1.81868 9.49711 -2.91989        0.124025        0.112482        -0.0449469      -20.2905       -32.0492 8.67906 1.0     0.0     0.0     0.0     33.8125 9.84408 -0.808951       -1.64674        9.73055 -0.846832       -1.29665        -0.027148       -0.0311901     -0.0408973       -47.7695        -2.58701        59.8481 -0.0128709      0.747947        -0.0798406      0.658813\n",
    "5.65    0.0     NaN     33.0    2.86086 7.43814 -7.21626        2.84248 7.63164 -6.8514 1.08269 -0.393965       1.60935 -11.6575        -3.18648        30.7215 1.0    0.0      0.0     0.0     36.125  1.7512  9.6334  -3.32601        1.74445 9.69355 -2.96421        0.132679        0.0608292       -0.0441676      -20.6409        -31.69898.30648 1.0     0.0     0.0     0.0     33.8125 9.83968 -0.807666       -1.80115        9.73049 -0.816601       -1.31189        0.0128035       -0.0363842      -0.0148455      -47.7624        -2.81438        60.3407 0.0140248       -0.74841        0.0790426       -0.65836\n",
    "Time taken: 0.158 seconds, Fetched: 2 row(s)"
   ]
  },
  {
   "cell_type": "markdown",
   "metadata": {},
   "source": [
    "Successfuly converted into ORC format"
   ]
  },
  {
   "cell_type": "code",
   "execution_count": null,
   "metadata": {},
   "outputs": [],
   "source": [
    "hive> describe formatted test1.pamap2_orc;\n",
    "OK\n",
    "# col_name              data_type               comment\n",
    "\n",
    "time                    double\n",
    "activity                double\n",
    "heart_rate              double\n",
    "hand_temp               double\n",
    "hand_acc16g_1           double\n",
    "hand_acc16g_2           double\n",
    ".                       .\n",
    ".                       .\n",
    ".                       . \n",
    "\n",
    "ankle_orient_3          double\n",
    "ankle_orient_4          double\n",
    "\n",
    "# Detailed Table Information\n",
    "Database:               test1\n",
    "Owner:                  hadoop\n",
    "CreateTime:             Thu Mar 14 09:24:11 UTC 2018\n",
    "LastAccessTime:         UNKNOWN\n",
    "Retention:              0\n",
    "Location:               hdfs://test-ser-vm01:9000/user/hive/warehouse/test1.db/pamap2_orc\n",
    "Table Type:             MANAGED_TABLE\n",
    "Table Parameters:\n",
    "        COLUMN_STATS_ACCURATE   {\\\"BASIC_STATS\\\":\\\"true\\\"}\n",
    "        numFiles                9\n",
    "        numRows                 2872533\n",
    "        rawDataSize             1240934256\n",
    "        totalSize               772975987\n",
    "        transient_lastDdlTime   1552555601\n",
    "\n",
    "# Storage Information\n",
    "SerDe Library:          org.apache.hadoop.hive.ql.io.orc.OrcSerde\n",
    "InputFormat:            org.apache.hadoop.hive.ql.io.orc.OrcInputFormat\n",
    "OutputFormat:           org.apache.hadoop.hive.ql.io.orc.OrcOutputFormat\n",
    "Compressed:             No\n",
    "Num Buckets:            -1\n",
    "Bucket Columns:         []\n",
    "Sort Columns:           []\n",
    "Storage Desc Params:\n",
    "        serialization.format    1\n",
    "Time taken: 0.604 seconds, Fetched: 83 row(s)\n"
   ]
  },
  {
   "cell_type": "raw",
   "metadata": {},
   "source": [
    "[hadoop@test-ser-vm01 Protocol]$ hadoop fs -ls /user/hive/warehouse/test1.db/pamap2_orc\n",
    "Found 9 items\n",
    "-rwxr-xr-x   3 hadoop supergroup  202673523 2018-03-14 09:26 /user/hive/warehouse/test1.db/pamap2_orc/000000_0\n",
    "-rwxr-xr-x   3 hadoop supergroup  153111161 2018-03-14 09:26 /user/hive/warehouse/test1.db/pamap2_orc/000001_0\n",
    "-rwxr-xr-x   3 hadoop supergroup  104919944 2018-03-14 09:26 /user/hive/warehouse/test1.db/pamap2_orc/000002_0\n",
    "-rwxr-xr-x   3 hadoop supergroup  101485801 2018-03-14 09:26 /user/hive/warehouse/test1.db/pamap2_orc/000003_0\n",
    "-rwxr-xr-x   3 hadoop supergroup   86684110 2018-03-14 09:26 /user/hive/warehouse/test1.db/pamap2_orc/000004_0\n",
    "-rwxr-xr-x   3 hadoop supergroup   81040336 2018-03-14 09:26 /user/hive/warehouse/test1.db/pamap2_orc/000005_0\n",
    "-rwxr-xr-x   3 hadoop supergroup   27038160 2018-03-14 09:26 /user/hive/warehouse/test1.db/pamap2_orc/000006_0\n",
    "-rwxr-xr-x   3 hadoop supergroup   11794464 2018-03-14 09:26 /user/hive/warehouse/test1.db/pamap2_orc/000007_0\n",
    "-rwxr-xr-x   3 hadoop supergroup    4228488 2018-03-14 09:26 /user/hive/warehouse/test1.db/pamap2_orc/000008_0\n"
   ]
  },
  {
   "cell_type": "markdown",
   "metadata": {},
   "source": [
    "## Pyspark for data processing and Machine Learning"
   ]
  },
  {
   "cell_type": "markdown",
   "metadata": {},
   "source": [
    "Utilize SparkSQL and ml library to perform data pre-processing steps and machine learning to perform classification,"
   ]
  },
  {
   "cell_type": "markdown",
   "metadata": {},
   "source": [
    "###### Importing necessary modules"
   ]
  },
  {
   "cell_type": "code",
   "execution_count": 1,
   "metadata": {},
   "outputs": [],
   "source": [
    "from pyspark.sql import SparkSession\n",
    "from pyspark import SparkConf, SparkContext\n",
    "import pyspark.sql.functions as fn\n",
    "from pyspark.ml.classification import RandomForestClassifier \n",
    "from pyspark.ml.clustering import KMeans,BisectingKMeans\n",
    "from pyspark.ml.feature import StringIndexer,OneHotEncoder,VectorAssembler,PCA as sparkpca,MinMaxScaler as sparkMinMaxScaler,Normalizer,VectorIndexer\n",
    "from pyspark.ml import Pipeline as SparkPipeline,PipelineModel\n",
    "import pandas as pd\n",
    "from matplotlib import pyplot as plt\n",
    "from pyspark.sql.types import DateType\n",
    "from pyspark.ml.evaluation import RegressionEvaluator,MulticlassClassificationEvaluator,BinaryClassificationEvaluator\n",
    "from pyspark.ml.tuning import CrossValidator, ParamGridBuilder\n",
    "from pyspark.sql.types import *\n",
    "from datetime import datetime\n",
    "import numpy as np\n",
    "%matplotlib inline  \n",
    "from pyspark.sql.types import *\n",
    "from pyspark.sql.functions import array, explode, lit\n",
    "import warnings\n",
    "from operator import add\n",
    "import re\n",
    "from functools import reduce\n",
    "warnings.filterwarnings('ignore')"
   ]
  },
  {
   "cell_type": "markdown",
   "metadata": {},
   "source": [
    "###### Creating SparkSession object and reading orc input file"
   ]
  },
  {
   "cell_type": "code",
   "execution_count": 2,
   "metadata": {},
   "outputs": [],
   "source": [
    "spark = SparkSession.builder.getOrCreate()"
   ]
  },
  {
   "cell_type": "code",
   "execution_count": 3,
   "metadata": {},
   "outputs": [],
   "source": [
    "inputdataraw = spark.read.orc('/user/hive/warehouse/test1.db/pamap2_orc')"
   ]
  },
  {
   "cell_type": "code",
   "execution_count": 4,
   "metadata": {},
   "outputs": [
    {
     "data": {
      "text/plain": [
       "2872533"
      ]
     },
     "execution_count": 4,
     "metadata": {},
     "output_type": "execute_result"
    }
   ],
   "source": [
    "inputdataraw.cache()\n",
    "inputdataraw.count()"
   ]
  },
  {
   "cell_type": "code",
   "execution_count": 5,
   "metadata": {},
   "outputs": [
    {
     "name": "stdout",
     "output_type": "stream",
     "text": [
      "+--------+-----------+\n",
      "|activity|count(time)|\n",
      "+--------+-----------+\n",
      "|     0.0|     929661|\n",
      "|     7.0|     188107|\n",
      "|     1.0|     192523|\n",
      "|     4.0|     238761|\n",
      "|     3.0|     189931|\n",
      "|     2.0|     185188|\n",
      "|    17.0|     238690|\n",
      "|    13.0|     104944|\n",
      "|     6.0|     164600|\n",
      "|    24.0|      49360|\n",
      "|     5.0|      98199|\n",
      "|    16.0|     175353|\n",
      "|    12.0|     117216|\n",
      "+--------+-----------+\n",
      "\n"
     ]
    }
   ],
   "source": [
    "inputdataraw.groupBy('activity').agg(fn.count('time')).show()"
   ]
  },
  {
   "cell_type": "code",
   "execution_count": 6,
   "metadata": {},
   "outputs": [
    {
     "name": "stdout",
     "output_type": "stream",
     "text": [
      "root\n",
      " |-- time: double (nullable = true)\n",
      " |-- activity: double (nullable = true)\n",
      " |-- heart_rate: double (nullable = true)\n",
      " |-- hand_temp: double (nullable = true)\n",
      " |-- hand_acc16g_1: double (nullable = true)\n",
      " |-- hand_acc16g_2: double (nullable = true)\n",
      " |-- hand_acc16g_3: double (nullable = true)\n",
      " |-- hand_acc6g_1: double (nullable = true)\n",
      " |-- hand_acc6g_2: double (nullable = true)\n",
      " |-- hand_acc6g_3: double (nullable = true)\n",
      " |-- hand_gyro_1: double (nullable = true)\n",
      " |-- hand_gyro_2: double (nullable = true)\n",
      " |-- hand_gyro_3: double (nullable = true)\n",
      " |-- hand_mag_1: double (nullable = true)\n",
      " |-- hand_mag_2: double (nullable = true)\n",
      " |-- hand_mag_3: double (nullable = true)\n",
      " |-- hand_orient_1: double (nullable = true)\n",
      " |-- hand_orient_2: double (nullable = true)\n",
      " |-- hand_orient_3: double (nullable = true)\n",
      " |-- hand_orient_4: double (nullable = true)\n",
      " |-- chest_temp: double (nullable = true)\n",
      " |-- chest_acc16g_1: double (nullable = true)\n",
      " |-- chest_acc16g_2: double (nullable = true)\n",
      " |-- chest_acc16g_3: double (nullable = true)\n",
      " |-- chest_acc6g_1: double (nullable = true)\n",
      " |-- chest_acc6g_2: double (nullable = true)\n",
      " |-- chest_acc6g_3: double (nullable = true)\n",
      " |-- chest_gyro_1: double (nullable = true)\n",
      " |-- chest_gyro_2: double (nullable = true)\n",
      " |-- chest_gyro_3: double (nullable = true)\n",
      " |-- chest_mag_1: double (nullable = true)\n",
      " |-- chest_mag_2: double (nullable = true)\n",
      " |-- chest_mag_3: double (nullable = true)\n",
      " |-- chest_orient_1: double (nullable = true)\n",
      " |-- chest_orient_2: double (nullable = true)\n",
      " |-- chest_orient_3: double (nullable = true)\n",
      " |-- chest_orient_4: double (nullable = true)\n",
      " |-- ankle_temp: double (nullable = true)\n",
      " |-- ankle_acc16g_1: double (nullable = true)\n",
      " |-- ankle_acc16g_2: double (nullable = true)\n",
      " |-- ankle_acc16g_3: double (nullable = true)\n",
      " |-- ankle_acc6g_1: double (nullable = true)\n",
      " |-- ankle_acc6g_2: double (nullable = true)\n",
      " |-- ankle_acc6g_3: double (nullable = true)\n",
      " |-- ankle_gyro_1: double (nullable = true)\n",
      " |-- ankle_gyro_2: double (nullable = true)\n",
      " |-- ankle_gyro_3: double (nullable = true)\n",
      " |-- ankle_mag_1: double (nullable = true)\n",
      " |-- ankle_mag_2: double (nullable = true)\n",
      " |-- ankle_mag_3: double (nullable = true)\n",
      " |-- ankle_orient_1: double (nullable = true)\n",
      " |-- ankle_orient_2: double (nullable = true)\n",
      " |-- ankle_orient_3: double (nullable = true)\n",
      " |-- ankle_orient_4: double (nullable = true)\n",
      "\n"
     ]
    }
   ],
   "source": [
    "inputdataraw.printSchema()"
   ]
  },
  {
   "cell_type": "code",
   "execution_count": 10,
   "metadata": {},
   "outputs": [
    {
     "data": {
      "text/html": [
       "<div>\n",
       "<style scoped>\n",
       "    .dataframe tbody tr th:only-of-type {\n",
       "        vertical-align: middle;\n",
       "    }\n",
       "\n",
       "    .dataframe tbody tr th {\n",
       "        vertical-align: top;\n",
       "    }\n",
       "\n",
       "    .dataframe thead th {\n",
       "        text-align: right;\n",
       "    }\n",
       "</style>\n",
       "<table border=\"1\" class=\"dataframe\">\n",
       "  <thead>\n",
       "    <tr style=\"text-align: right;\">\n",
       "      <th></th>\n",
       "      <th>summary</th>\n",
       "      <th>time</th>\n",
       "      <th>activity</th>\n",
       "      <th>heart_rate</th>\n",
       "      <th>hand_temp</th>\n",
       "      <th>hand_acc16g_1</th>\n",
       "      <th>hand_acc16g_2</th>\n",
       "      <th>hand_acc16g_3</th>\n",
       "      <th>hand_acc6g_1</th>\n",
       "      <th>hand_acc6g_2</th>\n",
       "      <th>...</th>\n",
       "      <th>ankle_gyro_1</th>\n",
       "      <th>ankle_gyro_2</th>\n",
       "      <th>ankle_gyro_3</th>\n",
       "      <th>ankle_mag_1</th>\n",
       "      <th>ankle_mag_2</th>\n",
       "      <th>ankle_mag_3</th>\n",
       "      <th>ankle_orient_1</th>\n",
       "      <th>ankle_orient_2</th>\n",
       "      <th>ankle_orient_3</th>\n",
       "      <th>ankle_orient_4</th>\n",
       "    </tr>\n",
       "  </thead>\n",
       "  <tbody>\n",
       "    <tr>\n",
       "      <th>0</th>\n",
       "      <td>count</td>\n",
       "      <td>2872533</td>\n",
       "      <td>2872533</td>\n",
       "      <td>2872533</td>\n",
       "      <td>2872533</td>\n",
       "      <td>2872533</td>\n",
       "      <td>2872533</td>\n",
       "      <td>2872533</td>\n",
       "      <td>2872533</td>\n",
       "      <td>2872533</td>\n",
       "      <td>...</td>\n",
       "      <td>2872533</td>\n",
       "      <td>2872533</td>\n",
       "      <td>2872533</td>\n",
       "      <td>2872533</td>\n",
       "      <td>2872533</td>\n",
       "      <td>2872533</td>\n",
       "      <td>2872533</td>\n",
       "      <td>2872533</td>\n",
       "      <td>2872533</td>\n",
       "      <td>2872533</td>\n",
       "    </tr>\n",
       "    <tr>\n",
       "      <th>1</th>\n",
       "      <td>mean</td>\n",
       "      <td>1834.3538678511266</td>\n",
       "      <td>5.4662425114002176</td>\n",
       "      <td>NaN</td>\n",
       "      <td>NaN</td>\n",
       "      <td>NaN</td>\n",
       "      <td>NaN</td>\n",
       "      <td>NaN</td>\n",
       "      <td>NaN</td>\n",
       "      <td>NaN</td>\n",
       "      <td>...</td>\n",
       "      <td>NaN</td>\n",
       "      <td>NaN</td>\n",
       "      <td>NaN</td>\n",
       "      <td>NaN</td>\n",
       "      <td>NaN</td>\n",
       "      <td>NaN</td>\n",
       "      <td>NaN</td>\n",
       "      <td>NaN</td>\n",
       "      <td>NaN</td>\n",
       "      <td>NaN</td>\n",
       "    </tr>\n",
       "    <tr>\n",
       "      <th>2</th>\n",
       "      <td>stddev</td>\n",
       "      <td>1105.6889982931357</td>\n",
       "      <td>6.331333413102728</td>\n",
       "      <td>NaN</td>\n",
       "      <td>NaN</td>\n",
       "      <td>NaN</td>\n",
       "      <td>NaN</td>\n",
       "      <td>NaN</td>\n",
       "      <td>NaN</td>\n",
       "      <td>NaN</td>\n",
       "      <td>...</td>\n",
       "      <td>NaN</td>\n",
       "      <td>NaN</td>\n",
       "      <td>NaN</td>\n",
       "      <td>NaN</td>\n",
       "      <td>NaN</td>\n",
       "      <td>NaN</td>\n",
       "      <td>NaN</td>\n",
       "      <td>NaN</td>\n",
       "      <td>NaN</td>\n",
       "      <td>NaN</td>\n",
       "    </tr>\n",
       "    <tr>\n",
       "      <th>3</th>\n",
       "      <td>min</td>\n",
       "      <td>5.64</td>\n",
       "      <td>0.0</td>\n",
       "      <td>57.0</td>\n",
       "      <td>24.75</td>\n",
       "      <td>-145.367</td>\n",
       "      <td>-104.301</td>\n",
       "      <td>-101.452</td>\n",
       "      <td>-61.4895</td>\n",
       "      <td>-61.868</td>\n",
       "      <td>...</td>\n",
       "      <td>-23.995</td>\n",
       "      <td>-18.1269</td>\n",
       "      <td>-14.0196</td>\n",
       "      <td>-172.865</td>\n",
       "      <td>-137.908</td>\n",
       "      <td>-109.289</td>\n",
       "      <td>-0.253628</td>\n",
       "      <td>-0.956876</td>\n",
       "      <td>-0.876838</td>\n",
       "      <td>-0.997281</td>\n",
       "    </tr>\n",
       "    <tr>\n",
       "      <th>4</th>\n",
       "      <td>max</td>\n",
       "      <td>4475.63</td>\n",
       "      <td>24.0</td>\n",
       "      <td>NaN</td>\n",
       "      <td>NaN</td>\n",
       "      <td>NaN</td>\n",
       "      <td>NaN</td>\n",
       "      <td>NaN</td>\n",
       "      <td>NaN</td>\n",
       "      <td>NaN</td>\n",
       "      <td>...</td>\n",
       "      <td>NaN</td>\n",
       "      <td>NaN</td>\n",
       "      <td>NaN</td>\n",
       "      <td>NaN</td>\n",
       "      <td>NaN</td>\n",
       "      <td>NaN</td>\n",
       "      <td>NaN</td>\n",
       "      <td>NaN</td>\n",
       "      <td>NaN</td>\n",
       "      <td>NaN</td>\n",
       "    </tr>\n",
       "  </tbody>\n",
       "</table>\n",
       "<p>5 rows × 55 columns</p>\n",
       "</div>"
      ],
      "text/plain": [
       "  summary                time            activity heart_rate hand_temp  \\\n",
       "0   count             2872533             2872533    2872533   2872533   \n",
       "1    mean  1834.3538678511266  5.4662425114002176        NaN       NaN   \n",
       "2  stddev  1105.6889982931357   6.331333413102728        NaN       NaN   \n",
       "3     min                5.64                 0.0       57.0     24.75   \n",
       "4     max             4475.63                24.0        NaN       NaN   \n",
       "\n",
       "  hand_acc16g_1 hand_acc16g_2 hand_acc16g_3 hand_acc6g_1 hand_acc6g_2  \\\n",
       "0       2872533       2872533       2872533      2872533      2872533   \n",
       "1           NaN           NaN           NaN          NaN          NaN   \n",
       "2           NaN           NaN           NaN          NaN          NaN   \n",
       "3      -145.367      -104.301      -101.452     -61.4895      -61.868   \n",
       "4           NaN           NaN           NaN          NaN          NaN   \n",
       "\n",
       "       ...       ankle_gyro_1 ankle_gyro_2 ankle_gyro_3 ankle_mag_1  \\\n",
       "0      ...            2872533      2872533      2872533     2872533   \n",
       "1      ...                NaN          NaN          NaN         NaN   \n",
       "2      ...                NaN          NaN          NaN         NaN   \n",
       "3      ...            -23.995     -18.1269     -14.0196    -172.865   \n",
       "4      ...                NaN          NaN          NaN         NaN   \n",
       "\n",
       "  ankle_mag_2 ankle_mag_3 ankle_orient_1 ankle_orient_2 ankle_orient_3  \\\n",
       "0     2872533     2872533        2872533        2872533        2872533   \n",
       "1         NaN         NaN            NaN            NaN            NaN   \n",
       "2         NaN         NaN            NaN            NaN            NaN   \n",
       "3    -137.908    -109.289      -0.253628      -0.956876      -0.876838   \n",
       "4         NaN         NaN            NaN            NaN            NaN   \n",
       "\n",
       "  ankle_orient_4  \n",
       "0        2872533  \n",
       "1            NaN  \n",
       "2            NaN  \n",
       "3      -0.997281  \n",
       "4            NaN  \n",
       "\n",
       "[5 rows x 55 columns]"
      ]
     },
     "execution_count": 10,
     "metadata": {},
     "output_type": "execute_result"
    }
   ],
   "source": [
    "inputdataraw.describe().toPandas()"
   ]
  },
  {
   "cell_type": "code",
   "execution_count": 12,
   "metadata": {},
   "outputs": [
    {
     "name": "stdout",
     "output_type": "stream",
     "text": [
      "+----+--------+----------+---------+-------------+-------------+-------------+------------+------------+------------+-----------+-----------+-----------+----------+----------+----------+-------------+-------------+-------------+-------------+----------+--------------+--------------+--------------+-------------+-------------+-------------+------------+------------+------------+-----------+-----------+-----------+--------------+--------------+--------------+--------------+----------+--------------+--------------+--------------+-------------+-------------+-------------+------------+------------+------------+-----------+-----------+-----------+--------------+--------------+--------------+--------------+\n",
      "|time|activity|heart_rate|hand_temp|hand_acc16g_1|hand_acc16g_2|hand_acc16g_3|hand_acc6g_1|hand_acc6g_2|hand_acc6g_3|hand_gyro_1|hand_gyro_2|hand_gyro_3|hand_mag_1|hand_mag_2|hand_mag_3|hand_orient_1|hand_orient_2|hand_orient_3|hand_orient_4|chest_temp|chest_acc16g_1|chest_acc16g_2|chest_acc16g_3|chest_acc6g_1|chest_acc6g_2|chest_acc6g_3|chest_gyro_1|chest_gyro_2|chest_gyro_3|chest_mag_1|chest_mag_2|chest_mag_3|chest_orient_1|chest_orient_2|chest_orient_3|chest_orient_4|ankle_temp|ankle_acc16g_1|ankle_acc16g_2|ankle_acc16g_3|ankle_acc6g_1|ankle_acc6g_2|ankle_acc6g_3|ankle_gyro_1|ankle_gyro_2|ankle_gyro_3|ankle_mag_1|ankle_mag_2|ankle_mag_3|ankle_orient_1|ankle_orient_2|ankle_orient_3|ankle_orient_4|\n",
      "+----+--------+----------+---------+-------------+-------------+-------------+------------+------------+------------+-----------+-----------+-----------+----------+----------+----------+-------------+-------------+-------------+-------------+----------+--------------+--------------+--------------+-------------+-------------+-------------+------------+------------+------------+-----------+-----------+-----------+--------------+--------------+--------------+--------------+----------+--------------+--------------+--------------+-------------+-------------+-------------+------------+------------+------------+-----------+-----------+-----------+--------------+--------------+--------------+--------------+\n",
      "|5.64|     0.0|       NaN|     33.0|      2.79143|      7.55389|     -7.06374|     2.87553|     7.88823|    -6.76139|     1.0164|   -0.28941|    1.38207|  -11.6508|  -3.73683|   31.1784|          1.0|          0.0|          0.0|          0.0|    36.125|       1.94739|       9.59644|      -3.12873|      1.81868|      9.49711|     -2.91989|    0.124025|    0.112482|  -0.0449469|   -20.2905|   -32.0492|    8.67906|           1.0|           0.0|           0.0|           0.0|   33.8125|       9.84408|     -0.808951|      -1.64674|      9.73055|    -0.846832|     -1.29665|   -0.027148|  -0.0311901|  -0.0408973|   -47.7695|   -2.58701|    59.8481|    -0.0128709|      0.747947|    -0.0798406|      0.658813|\n",
      "+----+--------+----------+---------+-------------+-------------+-------------+------------+------------+------------+-----------+-----------+-----------+----------+----------+----------+-------------+-------------+-------------+-------------+----------+--------------+--------------+--------------+-------------+-------------+-------------+------------+------------+------------+-----------+-----------+-----------+--------------+--------------+--------------+--------------+----------+--------------+--------------+--------------+-------------+-------------+-------------+------------+------------+------------+-----------+-----------+-----------+--------------+--------------+--------------+--------------+\n",
      "only showing top 1 row\n",
      "\n"
     ]
    }
   ],
   "source": [
    "inputdataraw.show(1)"
   ]
  },
  {
   "cell_type": "markdown",
   "metadata": {},
   "source": [
    "Referring to the activity id mappings we can infer that activity id = 0 should not be considered for the analysis as it indicates transient movement between different activities.Lets filter them out."
   ]
  },
  {
   "cell_type": "code",
   "execution_count": 27,
   "metadata": {},
   "outputs": [],
   "source": [
    "inputdataraw = inputdataraw.withColumn('new_time',fn.round(fn.col('time')%10))"
   ]
  },
  {
   "cell_type": "code",
   "execution_count": 28,
   "metadata": {},
   "outputs": [],
   "source": [
    "inputdata = inputdataraw.filter(fn.col('activity')!=0)"
   ]
  },
  {
   "cell_type": "code",
   "execution_count": 31,
   "metadata": {},
   "outputs": [],
   "source": [
    "inputdata = inputdata.withColumn('activity',fn.col('activity').cast('int'))"
   ]
  },
  {
   "cell_type": "code",
   "execution_count": 32,
   "metadata": {},
   "outputs": [
    {
     "name": "stdout",
     "output_type": "stream",
     "text": [
      "+--------+\n",
      "|activity|\n",
      "+--------+\n",
      "|       1|\n",
      "|       2|\n",
      "|       3|\n",
      "|       4|\n",
      "|       5|\n",
      "|       6|\n",
      "|       7|\n",
      "|      12|\n",
      "|      13|\n",
      "|      16|\n",
      "|      17|\n",
      "|      24|\n",
      "+--------+\n",
      "\n"
     ]
    }
   ],
   "source": [
    "inputdata.select('activity').distinct().orderBy('activity').show()"
   ]
  },
  {
   "cell_type": "markdown",
   "metadata": {},
   "source": [
    "We know that heart rate would be considered as an important measure to identify the nature of physical activity,lets group the data by activity and check mean within each group to identify any pattern and validate our hypothesis"
   ]
  },
  {
   "cell_type": "code",
   "execution_count": 15,
   "metadata": {},
   "outputs": [
    {
     "name": "stdout",
     "output_type": "stream",
     "text": [
      "+--------+------------------+\n",
      "|activity|    avg_heart_rate|\n",
      "+--------+------------------+\n",
      "|      24|161.98139122729287|\n",
      "|       5|156.59581411049848|\n",
      "|      12|129.52348491922683|\n",
      "|      13|129.15417491921193|\n",
      "|       6| 124.8799521403882|\n",
      "|       7|123.82870101174555|\n",
      "|       4|112.78986505095016|\n",
      "|      16| 104.1980908410282|\n",
      "|      17| 90.06959118052366|\n",
      "|       3| 88.55763688760807|\n",
      "|       2| 80.01258195995038|\n",
      "|       1| 75.53568181818181|\n",
      "+--------+------------------+\n",
      "\n"
     ]
    }
   ],
   "source": [
    "heart_rate_agg = inputdata.filter(~fn.isnan('heart_rate')).groupBy('activity').agg(fn.mean('heart_rate').alias('avg_heart_rate'))\n",
    "heart_rate_agg.sort(fn.desc('avg_heart_rate')).show()"
   ]
  },
  {
   "cell_type": "markdown",
   "metadata": {},
   "source": [
    "Indeed low intensity activities and high intensity activities have varying heart rates as expected."
   ]
  },
  {
   "cell_type": "markdown",
   "metadata": {},
   "source": [
    "##### Checking and treating for Null values"
   ]
  },
  {
   "cell_type": "code",
   "execution_count": 33,
   "metadata": {},
   "outputs": [],
   "source": [
    "from functools import reduce\n",
    "null_counts =reduce(lambda x,y:x.union(y),(inputdata.agg(fn.count(fn.when(fn.isnan(c), c)).alias('null_count')).select(fn.lit(c).alias('col_name'),'null_count') for c in inputdata.columns))"
   ]
  },
  {
   "cell_type": "markdown",
   "metadata": {},
   "source": [
    "Missing sensory data due to wireless data dropping: missing values are indicated with NaN.It is a case of missingness completely at random."
   ]
  },
  {
   "cell_type": "code",
   "execution_count": 14,
   "metadata": {},
   "outputs": [
    {
     "name": "stdout",
     "output_type": "stream",
     "text": [
      "+--------------+----------+\n",
      "|      col_name|null_count|\n",
      "+--------------+----------+\n",
      "|    heart_rate|   1765464|\n",
      "| hand_acc16g_2|     11124|\n",
      "| hand_orient_4|     11124|\n",
      "| hand_orient_1|     11124|\n",
      "|    hand_mag_1|     11124|\n",
      "|  hand_acc6g_3|     11124|\n",
      "|  hand_acc6g_2|     11124|\n",
      "|     hand_temp|     11124|\n",
      "|   hand_gyro_2|     11124|\n",
      "| hand_orient_3|     11124|\n",
      "| hand_acc16g_1|     11124|\n",
      "| hand_acc16g_3|     11124|\n",
      "| hand_orient_2|     11124|\n",
      "|   hand_gyro_3|     11124|\n",
      "|  hand_acc6g_1|     11124|\n",
      "|   hand_gyro_1|     11124|\n",
      "|    hand_mag_3|     11124|\n",
      "|    hand_mag_2|     11124|\n",
      "|ankle_orient_1|      8507|\n",
      "| ankle_acc6g_2|      8507|\n",
      "|ankle_orient_4|      8507|\n",
      "|  ankle_gyro_2|      8507|\n",
      "|ankle_acc16g_1|      8507|\n",
      "|   ankle_mag_1|      8507|\n",
      "|ankle_orient_3|      8507|\n",
      "|ankle_acc16g_2|      8507|\n",
      "|ankle_acc16g_3|      8507|\n",
      "|  ankle_gyro_3|      8507|\n",
      "|ankle_orient_2|      8507|\n",
      "| ankle_acc6g_3|      8507|\n",
      "|   ankle_mag_3|      8507|\n",
      "|   ankle_mag_2|      8507|\n",
      "| ankle_acc6g_1|      8507|\n",
      "|    ankle_temp|      8507|\n",
      "|  ankle_gyro_1|      8507|\n",
      "|  chest_gyro_1|      2420|\n",
      "| chest_acc6g_2|      2420|\n",
      "|   chest_mag_1|      2420|\n",
      "|chest_orient_2|      2420|\n",
      "|chest_acc16g_3|      2420|\n",
      "|   chest_mag_2|      2420|\n",
      "| chest_acc6g_1|      2420|\n",
      "|  chest_gyro_2|      2420|\n",
      "|   chest_mag_3|      2420|\n",
      "| chest_acc6g_3|      2420|\n",
      "|    chest_temp|      2420|\n",
      "|chest_orient_3|      2420|\n",
      "|chest_orient_4|      2420|\n",
      "|chest_acc16g_1|      2420|\n",
      "|chest_orient_1|      2420|\n",
      "|  chest_gyro_3|      2420|\n",
      "|chest_acc16g_2|      2420|\n",
      "|          time|         0|\n",
      "|      activity|         0|\n",
      "+--------------+----------+\n",
      "\n"
     ]
    }
   ],
   "source": [
    "null_counts.sort(fn.desc('null_count')).show(100)"
   ]
  },
  {
   "cell_type": "markdown",
   "metadata": {},
   "source": [
    "As we know the sensory data is time framed we can forward-fill and backward-fill null values using SparkSQL Window function - partition by activity and order by time"
   ]
  },
  {
   "cell_type": "code",
   "execution_count": 152,
   "metadata": {},
   "outputs": [],
   "source": [
    "for column in inputdata.columns:\n",
    "    inputdata = inputdata.withColumn(column,fn.when(fn.isnan(fn.col(column)),None).otherwise(fn.col(column)))\n"
   ]
  },
  {
   "cell_type": "code",
   "execution_count": 79,
   "metadata": {},
   "outputs": [],
   "source": [
    "from pyspark.sql import Window\n",
    "import sys\n",
    "\n",
    "window_ffill = Window.partitionBy('activity').orderBy('time').rowsBetween(-sys.maxsize,0)\n",
    "window_bfill = Window.partitionBy('activity').orderBy('time').rowsBetween(0,sys.maxsize)\n",
    "\n",
    "for c in [x for x in inputdata.columns if x not in ['time','activity']]:\n",
    "    inputdata = inputdata.withColumn(c,fn.last(fn.col(c),ignorenulls=True).over(window_ffill))\n",
    "    \n",
    "for c in [x for x in inputdata.columns if x not in ['time','activity']]:\n",
    "    inputdata = inputdata.withColumn(c,fn.last(fn.col(c),ignorenulls=True).over(window_bfill))"
   ]
  },
  {
   "cell_type": "code",
   "execution_count": 20,
   "metadata": {},
   "outputs": [],
   "source": [
    "null_counts_check =reduce(lambda x,y:x.union(y),(inputdata.agg(fn.count(fn.when(fn.isnull(c), c)).alias('null_count')).select(fn.lit(c).alias('col_name'),'null_count') for c in inputdata.columns))"
   ]
  },
  {
   "cell_type": "code",
   "execution_count": 21,
   "metadata": {},
   "outputs": [
    {
     "name": "stdout",
     "output_type": "stream",
     "text": [
      "+--------------+----------+\n",
      "|      col_name|null_count|\n",
      "+--------------+----------+\n",
      "|ankle_acc16g_3|         0|\n",
      "|     hand_temp|         0|\n",
      "| ankle_acc6g_1|         0|\n",
      "| hand_orient_2|         0|\n",
      "|chest_acc16g_1|         0|\n",
      "|  ankle_gyro_1|         0|\n",
      "|   hand_gyro_3|         0|\n",
      "| ankle_acc6g_3|         0|\n",
      "| hand_orient_3|         0|\n",
      "|   ankle_mag_3|         0|\n",
      "|      activity|         0|\n",
      "|   chest_mag_2|         0|\n",
      "|chest_orient_2|         0|\n",
      "| ankle_acc6g_2|         0|\n",
      "|ankle_acc16g_1|         0|\n",
      "| chest_acc6g_3|         0|\n",
      "|  chest_gyro_1|         0|\n",
      "| hand_acc16g_1|         0|\n",
      "|  chest_gyro_2|         0|\n",
      "| chest_acc6g_2|         0|\n",
      "+--------------+----------+\n",
      "only showing top 20 rows\n",
      "\n"
     ]
    }
   ],
   "source": [
    "null_counts_check.sort(fn.desc('null_count')).show()"
   ]
  },
  {
   "cell_type": "markdown",
   "metadata": {},
   "source": [
    "###### Feature engineering"
   ]
  },
  {
   "cell_type": "markdown",
   "metadata": {},
   "source": [
    "For each body sensor measurement available lets compare each value and generate aggregated features such as mean,standard deviation,min,max,max-min etc."
   ]
  },
  {
   "cell_type": "code",
   "execution_count": 39,
   "metadata": {},
   "outputs": [],
   "source": [
    "##feature engineering\n",
    "hand_cols = [col for col in inputdata.columns if re.search(r\"hand\",col)]\n",
    "chest_cols = [col for col in inputdata.columns if re.search(r\"chest\",col)]\n",
    "ankle_cols = [col for col in inputdata.columns if re.search(r\"ankle\",col)]\n",
    "sensor_cols = ['temp',\n",
    " 'acc16g_1',\n",
    " 'acc16g_2',\n",
    " 'acc16g_3',\n",
    " 'acc6g_1',\n",
    " 'acc6g_2',\n",
    " 'acc6g_3',\n",
    " 'gyro_1',\n",
    " 'gyro_2',\n",
    " 'gyro_3',\n",
    " 'mag_1',\n",
    " 'mag_2',\n",
    " 'mag_3',\n",
    " 'orient_1',\n",
    " 'orient_2',\n",
    " 'orient_3',\n",
    " 'orient_4']\n",
    "\n",
    "\n",
    "for col_nm,a,b,c in zip(sensor_cols,hand_cols,chest_cols,ankle_cols):\n",
    "    inputdata = inputdata.withColumn(col_nm+'all_sum',fn.col(a)+fn.col(b)+fn.col(c))\n",
    "    inputdata = inputdata.withColumn(col_nm+'all_max',fn.greatest(fn.col(a),fn.col(b),fn.col(c)))\n",
    "    inputdata = inputdata.withColumn(col_nm+'all_min',fn.least(fn.col(a),fn.col(b),fn.col(c)))\n",
    "    inputdata = inputdata.withColumn(col_nm+'all_max-min',fn.col(col_nm+'all_max')-fn.col(col_nm+'all_min'))\n",
    "    inputdata = inputdata.withColumn(col_nm+'all_mean',fn.col(col_nm+'all_sum')/3)\n",
    "    inputdata = inputdata.withColumn(col_nm+'all_std',fn.sqrt(reduce(add, ((fn.col(x) - fn.col(col_nm+'all_mean')) ** 2 for x in [a,b,c])) /2))\n",
    "    "
   ]
  },
  {
   "cell_type": "markdown",
   "metadata": {},
   "source": [
    "###### Preparing target variable"
   ]
  },
  {
   "cell_type": "markdown",
   "metadata": {},
   "source": [
    "From the activity list we can group the activities based on the intensity of the physical activity carried out into minimal,low,medium,high intensity bins for classification purpose."
   ]
  },
  {
   "cell_type": "code",
   "execution_count": 40,
   "metadata": {},
   "outputs": [],
   "source": [
    "#Minimun: [lying,sitting,standing,computer work,car driving,folding laundry]\n",
    "minimum_activity = [1,2,3,9,10,11,18]\n",
    "#Low: [descending stairs, ironing, house cleaning]\n",
    "low_activity = [13,17,19]\n",
    "#medium: [walking,descending stairs,vacuum cleaning]\n",
    "medium_activity =  [4,12,16]\n",
    "#high: [running,cycling,nordic walking,playing soccer,rope jumping]\n",
    "high_activity = [5,6,7,20,24]"
   ]
  },
  {
   "cell_type": "code",
   "execution_count": 41,
   "metadata": {},
   "outputs": [],
   "source": [
    "##target labels\n",
    "\n",
    "inputdata = inputdata.withColumn('target',fn.when(fn.col('activity').isin(minimum_activity),'min'))\n",
    "inputdata = inputdata.withColumn('target',fn.when(fn.col('activity').isin(low_activity),'low').otherwise(fn.col('target')))\n",
    "inputdata = inputdata.withColumn('target',fn.when(fn.col('activity').isin(medium_activity),'medium').otherwise(fn.col('target')))\n",
    "inputdata = inputdata.withColumn('target',fn.when(fn.col('activity').isin(high_activity),'high').otherwise(fn.col('target')))\n"
   ]
  },
  {
   "cell_type": "code",
   "execution_count": 15,
   "metadata": {},
   "outputs": [
    {
     "name": "stdout",
     "output_type": "stream",
     "text": [
      "+------+\n",
      "|target|\n",
      "+------+\n",
      "|   low|\n",
      "|  high|\n",
      "|medium|\n",
      "|   min|\n",
      "+------+\n",
      "\n"
     ]
    }
   ],
   "source": [
    "\n",
    "inputdata.select(fn.col('target')).distinct().show()"
   ]
  },
  {
   "cell_type": "markdown",
   "metadata": {},
   "source": [
    "Perform label indexing for each target variable"
   ]
  },
  {
   "cell_type": "code",
   "execution_count": 42,
   "metadata": {},
   "outputs": [],
   "source": [
    "inputdata = inputdata.withColumn('label',fn.when(fn.col('target')=='min',0))\n",
    "inputdata = inputdata.withColumn('label',fn.when(fn.col('target')=='low',1).otherwise(fn.col('label')))\n",
    "inputdata = inputdata.withColumn('label',fn.when(fn.col('target')=='medium',2).otherwise(fn.col('label')))\n",
    "inputdata = inputdata.withColumn('label',fn.when(fn.col('target')=='high',3).otherwise(fn.col('label')))\n",
    "                                 \n"
   ]
  },
  {
   "cell_type": "markdown",
   "metadata": {},
   "source": [
    "## Machine Learning using pyspark"
   ]
  },
  {
   "cell_type": "markdown",
   "metadata": {},
   "source": [
    "Utlizing machine learning to detect the intensity of physical activity using the readings of wearable devices that can track body motions and basic physiological parameters such as heart rate,temperature,acceleration,gyro,orientation parameters of different parts of the body."
   ]
  },
  {
   "cell_type": "markdown",
   "metadata": {},
   "source": [
    "Now we have our data processing and transformation using SparkSQL completed,lets perform machine learning using Pyspark ml library"
   ]
  },
  {
   "cell_type": "code",
   "execution_count": 43,
   "metadata": {},
   "outputs": [
    {
     "data": {
      "text/plain": [
       "1942872"
      ]
     },
     "execution_count": 43,
     "metadata": {},
     "output_type": "execute_result"
    }
   ],
   "source": [
    "inputdata.cache()\n",
    "inputdata.count()"
   ]
  },
  {
   "cell_type": "code",
   "execution_count": 64,
   "metadata": {},
   "outputs": [
    {
     "name": "stdout",
     "output_type": "stream",
     "text": [
      "+------+-----+\n",
      "|target|label|\n",
      "+------+-----+\n",
      "|  high|    3|\n",
      "|   min|    0|\n",
      "|   low|    1|\n",
      "|medium|    2|\n",
      "+------+-----+\n",
      "\n"
     ]
    }
   ],
   "source": [
    "inputdata.select('target','label').distinct().show()"
   ]
  },
  {
   "cell_type": "markdown",
   "metadata": {},
   "source": [
    "###### Preparing train/test data and features/target"
   ]
  },
  {
   "cell_type": "code",
   "execution_count": 65,
   "metadata": {},
   "outputs": [],
   "source": [
    "train,test = inputdata.randomSplit([0.8, 0.2])"
   ]
  },
  {
   "cell_type": "code",
   "execution_count": 66,
   "metadata": {},
   "outputs": [],
   "source": [
    "features = ['heart_rate','hand_temp','hand_acc16g_1','hand_acc16g_2','hand_acc16g_3','hand_acc6g_1','hand_acc6g_2','hand_acc6g_3','hand_gyro_1',\n",
    "'hand_gyro_2','hand_gyro_3','hand_mag_1','hand_mag_2','hand_mag_3','hand_orient_1','hand_orient_2','hand_orient_3','hand_orient_4',\n",
    "'chest_temp','chest_acc16g_1','chest_acc16g_2','chest_acc16g_3','chest_acc6g_1','chest_acc6g_2','chest_acc6g_3','chest_gyro_1',\n",
    "'chest_gyro_2','chest_gyro_3','chest_mag_1','chest_mag_2','chest_mag_3','chest_orient_1','chest_orient_2','chest_orient_3',\n",
    "'chest_orient_4','ankle_temp','ankle_acc16g_1','ankle_acc16g_2','ankle_acc16g_3','ankle_acc6g_1','ankle_acc6g_2','ankle_acc6g_3',\n",
    "'ankle_gyro_1','ankle_gyro_2','ankle_gyro_3','ankle_mag_1','ankle_mag_2','ankle_mag_3','ankle_orient_1','ankle_orient_2',\n",
    "'ankle_orient_3','ankle_orient_4','tempall_sum','tempall_max','tempall_min','tempall_max-min','tempall_mean',\n",
    "'tempall_std','acc16g_1all_sum','acc16g_1all_max','acc16g_1all_min','acc16g_1all_max-min','acc16g_1all_mean','acc16g_1all_std',\n",
    "'acc16g_2all_sum','acc16g_2all_max','acc16g_2all_min','acc16g_2all_max-min','acc16g_2all_mean','acc16g_2all_std','acc16g_3all_sum',\n",
    "'acc16g_3all_max','acc16g_3all_min','acc16g_3all_max-min','acc16g_3all_mean','acc16g_3all_std','acc6g_1all_sum','acc6g_1all_max',\n",
    "'acc6g_1all_min','acc6g_1all_max-min','acc6g_1all_mean','acc6g_1all_std','acc6g_2all_sum','acc6g_2all_max','acc6g_2all_min',\n",
    "'acc6g_2all_max-min','acc6g_2all_mean','acc6g_2all_std','acc6g_3all_sum','acc6g_3all_max','acc6g_3all_min','acc6g_3all_max-min',\n",
    "'acc6g_3all_mean','acc6g_3all_std','gyro_1all_sum','gyro_1all_max','gyro_1all_min','gyro_1all_max-min','gyro_1all_mean','gyro_1all_std',\n",
    "'gyro_2all_sum','gyro_2all_max','gyro_2all_min','gyro_2all_max-min','gyro_2all_mean','gyro_2all_std','gyro_3all_sum','gyro_3all_max',\n",
    "'gyro_3all_min','gyro_3all_max-min','gyro_3all_mean','gyro_3all_std','mag_1all_sum','mag_1all_max','mag_1all_min','mag_1all_max-min',\n",
    "'mag_1all_mean','mag_1all_std','mag_2all_sum','mag_2all_max','mag_2all_min','mag_2all_max-min','mag_2all_mean','mag_2all_std',\n",
    "'mag_3all_sum','mag_3all_max','mag_3all_min','mag_3all_max-min','mag_3all_mean','mag_3all_std','orient_1all_sum','orient_1all_max',\n",
    "'orient_1all_min','orient_1all_max-min','orient_1all_mean','orient_1all_std','orient_2all_sum','orient_2all_max','orient_2all_min',\n",
    "'orient_2all_max-min','orient_2all_mean','orient_2all_std','orient_3all_sum','orient_3all_max','orient_3all_min','orient_3all_max-min',\n",
    "'orient_3all_mean','orient_3all_std','orient_4all_sum','orient_4all_max','orient_4all_min','orient_4all_max-min','orient_4all_mean',\n",
    "'orient_4all_std']\n",
    "\n",
    "target = 'label'"
   ]
  },
  {
   "cell_type": "markdown",
   "metadata": {},
   "source": [
    "###### Random forest with Cross-validation using Pyspark"
   ]
  },
  {
   "cell_type": "code",
   "execution_count": 71,
   "metadata": {},
   "outputs": [],
   "source": [
    "def spark_rf_classifier(train, test,features,label):\n",
    "\n",
    "    mlassembler = VectorAssembler(inputCols=features,outputCol=\"features\")\n",
    "    rf = RandomForestClassifier(labelCol = label, featuresCol=\"features\")\n",
    "\n",
    "    rfpipeline = SparkPipeline(stages=[mlassembler,rf])\n",
    "    rfparamGrid = ParamGridBuilder().addGrid(rf.maxDepth, [5,10,20]).addGrid(rf.numTrees, [100,250,500]).build()\n",
    "    rfevaluator = MulticlassClassificationEvaluator(labelCol =label,predictionCol = \"prediction\",metricName = \"accuracy\")\n",
    "    rfcrossval = CrossValidator(estimator=rfpipeline,\n",
    "                              estimatorParamMaps=rfparamGrid,\n",
    "                              evaluator=rfevaluator,\n",
    "                              numFolds=3,parallelism=5) \n",
    "\n",
    "    rfmodel = rfcrossval.fit(train)\n",
    "    rfpredict = rfmodel.transform(test) \n",
    "    rf_accuracy = rfevaluator.evaluate(rfpredict,{rfevaluator.metricName: \"accuracy\"})\n",
    "    rf_precision = rfevaluator.evaluate(rfpredict,{rfevaluator.metricName: \"weightedPrecision\"})\n",
    "    rf_recall = rfevaluator.evaluate(rfpredict,{rfevaluator.metricName: \"weightedRecall\"})\n",
    "    rf_f1 = rfevaluator.evaluate(rfpredict,{rfevaluator.metricName: \"f1\"})\n",
    "    return (\"Random Forest Model\",rfmodel,rfpredict,rf_accuracy,rf_precision,rf_recall,rf_f1,rfevaluator,rfcrossval)"
   ]
  },
  {
   "cell_type": "code",
   "execution_count": 72,
   "metadata": {},
   "outputs": [],
   "source": [
    "result = spark_rf_classifier(train, test,features,target)\n"
   ]
  },
  {
   "cell_type": "code",
   "execution_count": 91,
   "metadata": {},
   "outputs": [
    {
     "name": "stdout",
     "output_type": "stream",
     "text": [
      "CrossValidatorModel_4b37928f1bbcf19ad86d\n",
      "PipelineModel_474599db674a829f00e6\n"
     ]
    },
    {
     "data": {
      "text/plain": [
       "[VectorAssembler_409d85531cdc48ea7dd4,\n",
       " RandomForestClassificationModel (uid=RandomForestClassifier_410bbd81e41f7e012fe4) with 100 trees]"
      ]
     },
     "execution_count": 91,
     "metadata": {},
     "output_type": "execute_result"
    }
   ],
   "source": [
    "print(result[1])\n",
    "best_pipeline = result[1].bestModel\n",
    "print(best_pipeline)\n",
    "best_pipeline.stages"
   ]
  },
  {
   "cell_type": "markdown",
   "metadata": {},
   "source": [
    "From the cross-validation mechanism we have our best Random forest model,lets check the best paramters of the model"
   ]
  },
  {
   "cell_type": "code",
   "execution_count": 92,
   "metadata": {},
   "outputs": [],
   "source": [
    "best_rf_model = best_pipeline.stages[1]"
   ]
  },
  {
   "cell_type": "code",
   "execution_count": 124,
   "metadata": {},
   "outputs": [
    {
     "data": {
      "text/plain": [
       "100"
      ]
     },
     "execution_count": 124,
     "metadata": {},
     "output_type": "execute_result"
    }
   ],
   "source": [
    "best_rf_model.getNumTrees"
   ]
  },
  {
   "cell_type": "code",
   "execution_count": 113,
   "metadata": {},
   "outputs": [
    {
     "data": {
      "text/plain": [
       "{'maxDepth': 20, 'numTrees': 100}"
      ]
     },
     "execution_count": 113,
     "metadata": {},
     "output_type": "execute_result"
    }
   ],
   "source": [
    "rf = RandomForestClassifier(labelCol = 'label', featuresCol=\"features\")\n",
    "paramGrid = ParamGridBuilder().addGrid(rf.maxDepth, [5,10,20]).addGrid(rf.numTrees, [100,250,500]).build()\n",
    "java_model = best_rf_model._java_obj\n",
    "{param.name: java_model.getOrDefault(java_model.getParam(param.name)) \n",
    "    for param in paramGrid[0]}"
   ]
  },
  {
   "cell_type": "markdown",
   "metadata": {},
   "source": [
    "We have performed hyperparameter tuning for the random forest model and indentified the hyperparameter with best validation metrics.    \n"
   ]
  },
  {
   "cell_type": "markdown",
   "metadata": {},
   "source": [
    "###### Training model and saving for prediction"
   ]
  },
  {
   "cell_type": "code",
   "execution_count": 127,
   "metadata": {},
   "outputs": [],
   "source": [
    "mlassembler = VectorAssembler(inputCols=features,outputCol=\"features\")\n",
    "final_rf = RandomForestClassifier(maxDepth=20,numTrees=100,labelCol = 'label', featuresCol=\"features\")\n",
    "final_rfpipeline = SparkPipeline(stages=[mlassembler,final_rf])\n",
    "final_rf_model = final_rfpipeline.fit(train)"
   ]
  },
  {
   "cell_type": "code",
   "execution_count": 128,
   "metadata": {},
   "outputs": [],
   "source": [
    "final_rf_model.write().overwrite().save('/mnt/data/scripts/notebooks/ashwin/models/final_rf_model_trained')"
   ]
  },
  {
   "cell_type": "code",
   "execution_count": 129,
   "metadata": {},
   "outputs": [],
   "source": [
    "model = PipelineModel.load('/mnt/data/scripts/notebooks/ashwin/models/final_rf_model_trained')\n",
    "preds = model.transform(test)"
   ]
  },
  {
   "cell_type": "code",
   "execution_count": 131,
   "metadata": {},
   "outputs": [
    {
     "name": "stdout",
     "output_type": "stream",
     "text": [
      "+-----+----------+------+\n",
      "|label|prediction| count|\n",
      "+-----+----------+------+\n",
      "|    0|       0.0|113181|\n",
      "|    1|       2.0|   250|\n",
      "|    2|       3.0|     1|\n",
      "|    3|       2.0|    44|\n",
      "|    3|       3.0| 99606|\n",
      "|    2|       2.0|106191|\n",
      "|    1|       1.0| 68570|\n",
      "+-----+----------+------+\n",
      "\n"
     ]
    }
   ],
   "source": [
    "preds.groupBy('label','prediction').count().show()\n"
   ]
  },
  {
   "cell_type": "markdown",
   "metadata": {},
   "source": [
    "As we can see most of the actual label and predictions are accurate and only a few are misclassified.This is a very good performing model for this classification purpose."
   ]
  },
  {
   "cell_type": "markdown",
   "metadata": {},
   "source": [
    "###### Extracting Feature importances"
   ]
  },
  {
   "cell_type": "code",
   "execution_count": 134,
   "metadata": {},
   "outputs": [],
   "source": [
    "feat_imp = model.stages[-1].featureImportances"
   ]
  },
  {
   "cell_type": "code",
   "execution_count": 136,
   "metadata": {},
   "outputs": [],
   "source": [
    "def ExtractFeatureImp(featureImp, dataset, featuresCol):\n",
    "    list_extract = []\n",
    "    for i in dataset.schema[featuresCol].metadata[\"ml_attr\"][\"attrs\"]:\n",
    "        list_extract = list_extract + dataset.schema[featuresCol].metadata[\"ml_attr\"][\"attrs\"][i]\n",
    "    varlist = pd.DataFrame(list_extract)\n",
    "    varlist['score'] = varlist['idx'].apply(lambda x: featureImp[x])\n",
    "    return(varlist.sort_values('score', ascending = False))"
   ]
  },
  {
   "cell_type": "code",
   "execution_count": 137,
   "metadata": {},
   "outputs": [],
   "source": [
    "feature_importances = ExtractFeatureImp(feat_imp,predictions,\"features\")"
   ]
  },
  {
   "cell_type": "code",
   "execution_count": 141,
   "metadata": {},
   "outputs": [
    {
     "data": {
      "text/html": [
       "<div>\n",
       "<style scoped>\n",
       "    .dataframe tbody tr th:only-of-type {\n",
       "        vertical-align: middle;\n",
       "    }\n",
       "\n",
       "    .dataframe tbody tr th {\n",
       "        vertical-align: top;\n",
       "    }\n",
       "\n",
       "    .dataframe thead th {\n",
       "        text-align: right;\n",
       "    }\n",
       "</style>\n",
       "<table border=\"1\" class=\"dataframe\">\n",
       "  <thead>\n",
       "    <tr style=\"text-align: right;\">\n",
       "      <th></th>\n",
       "      <th>idx</th>\n",
       "      <th>name</th>\n",
       "      <th>score</th>\n",
       "    </tr>\n",
       "  </thead>\n",
       "  <tbody>\n",
       "    <tr>\n",
       "      <th>0</th>\n",
       "      <td>0</td>\n",
       "      <td>heart_rate</td>\n",
       "      <td>0.155386</td>\n",
       "    </tr>\n",
       "    <tr>\n",
       "      <th>52</th>\n",
       "      <td>52</td>\n",
       "      <td>tempall_sum</td>\n",
       "      <td>0.039391</td>\n",
       "    </tr>\n",
       "    <tr>\n",
       "      <th>1</th>\n",
       "      <td>1</td>\n",
       "      <td>hand_temp</td>\n",
       "      <td>0.036727</td>\n",
       "    </tr>\n",
       "    <tr>\n",
       "      <th>54</th>\n",
       "      <td>54</td>\n",
       "      <td>tempall_min</td>\n",
       "      <td>0.035904</td>\n",
       "    </tr>\n",
       "    <tr>\n",
       "      <th>18</th>\n",
       "      <td>18</td>\n",
       "      <td>chest_temp</td>\n",
       "      <td>0.034430</td>\n",
       "    </tr>\n",
       "  </tbody>\n",
       "</table>\n",
       "</div>"
      ],
      "text/plain": [
       "    idx         name     score\n",
       "0     0   heart_rate  0.155386\n",
       "52   52  tempall_sum  0.039391\n",
       "1     1    hand_temp  0.036727\n",
       "54   54  tempall_min  0.035904\n",
       "18   18   chest_temp  0.034430"
      ]
     },
     "execution_count": 141,
     "metadata": {},
     "output_type": "execute_result"
    }
   ],
   "source": [
    "feat_imp_df = pd.DataFrame(feature_importances).sort_values(by=['score'],ascending=False)\n",
    "feat_imp_df.head()"
   ]
  },
  {
   "cell_type": "code",
   "execution_count": 144,
   "metadata": {
    "scrolled": true
   },
   "outputs": [],
   "source": [
    "feat_imp_df.drop(columns=['idx'],inplace=True)\n",
    "feat_imp_df.set_index('name',inplace=True)\n"
   ]
  },
  {
   "cell_type": "code",
   "execution_count": 148,
   "metadata": {},
   "outputs": [
    {
     "data": {
      "text/plain": [
       "Text(0.5,1,'Feature Importances')"
      ]
     },
     "execution_count": 148,
     "metadata": {},
     "output_type": "execute_result"
    },
    {
     "data": {
      "image/png": "[encoded data removed]",
      "text/plain": [
       "<matplotlib.figure.Figure at 0x7f953f813e10>"
      ]
     },
     "metadata": {},
     "output_type": "display_data"
    }
   ],
   "source": [
    "feat_imp_df.head(20).plot(kind='barh',figsize=(16,8))\n",
    "plt.title('Feature Importances')"
   ]
  },
  {
   "cell_type": "markdown",
   "metadata": {},
   "source": [
    "As we can see from the feature importances extracted heart rate and temperature related features play an important role in classification trees.Overall we can see the engineered features have good feature importances in our model compared to the original features."
   ]
  },
  {
   "cell_type": "code",
   "execution_count": 151,
   "metadata": {},
   "outputs": [
    {
     "data": {
      "text/plain": [
       "1.0"
      ]
     },
     "execution_count": 151,
     "metadata": {},
     "output_type": "execute_result"
    }
   ],
   "source": [
    "eval_rf = BinaryClassificationEvaluator(rawPredictionCol='prediction', labelCol='label', metricName='areaUnderROC')\n",
    "eval_rf.evaluate(preds)"
   ]
  }
 ],
 "metadata": {
  "kernelspec": {
   "display_name": "Python 3",
   "language": "python",
   "name": "python3"
  },
  "language_info": {
   "codemirror_mode": {
    "name": "ipython",
    "version": 3
   },
   "file_extension": ".py",
   "mimetype": "text/x-python",
   "name": "python",
   "nbconvert_exporter": "python",
   "pygments_lexer": "ipython3",
   "version": "3.6.4"
  }
 },
 "nbformat": 4,
 "nbformat_minor": 2
}
